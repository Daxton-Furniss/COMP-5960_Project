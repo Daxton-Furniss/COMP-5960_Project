{
 "cells": [
  {
   "cell_type": "code",
   "execution_count": null,
   "metadata": {},
   "outputs": [],
   "source": [
    "import pandas as pd\n",
    "from geopy.geocoders import GoogleV3\n",
    "\n",
    "#API key\n",
    "api_key = '----'\n",
    "\n",
    "# Create a geocoder object with the Google Maps API\n",
    "geolocator = GoogleV3(api_key=api_key)\n",
    "\n",
    "# Read CSV file\n",
    "input_csv = 'Stocking_All_Years.csv'\n",
    "output_csv = 'output_with_geocodes.csv'\n",
    "df = pd.read_csv(input_csv)\n",
    "\n",
    "# Filter for unique water names\n",
    "df_unique = df.drop_duplicates(subset=['Water Name'])\n",
    "\n",
    "# Add columns for latitude and longitude\n",
    "df_unique['Latitude'] = None\n",
    "df_unique['Longitude'] = None\n",
    "\n",
    "# Track the number of waters dropped/failed to geocode\n",
    "dropped_count = 0\n",
    "\n",
    "# Iterate through all unique locations in the CSV // saves time by not geocoding the same location multiple times\n",
    "for index, row in df_unique.iterrows():\n",
    "    location_query = f\"{row['Water Name']}, {row['County']} County, Utah\"\n",
    "    location = geolocator.geocode(location_query)\n",
    "    if location:\n",
    "        df_unique.at[index, 'Latitude'] = location.latitude\n",
    "        df_unique.at[index, 'Longitude'] = location.longitude\n",
    "    else:\n",
    "        df_unique.drop(index, inplace=True)\n",
    "        dropped_count += 1\n",
    "\n",
    "# Save the results to a new CSV file\n",
    "df_unique.to_csv(output_csv, index=False)\n",
    "\n",
    "print(f'Geocoded data saved to {output_csv}')\n",
    "print(f'Total number of waters dropped: {dropped_count}')"
   ]
  }
 ],
 "metadata": {
  "language_info": {
   "name": "python"
  }
 },
 "nbformat": 4,
 "nbformat_minor": 2
}
